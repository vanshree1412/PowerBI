{
  "nbformat": 4,
  "nbformat_minor": 0,
  "metadata": {
    "colab": {
      "provenance": [],
      "include_colab_link": true
    },
    "kernelspec": {
      "name": "python3",
      "display_name": "Python 3"
    },
    "language_info": {
      "name": "python"
    }
  },
  "cells": [
    {
      "cell_type": "markdown",
      "metadata": {
        "id": "view-in-github",
        "colab_type": "text"
      },
      "source": [
        "<a href=\"https://colab.research.google.com/github/vanshree1412/PowerBI/blob/main/Code_B_integrated_Internship.ipynb\" target=\"_parent\"><img src=\"https://colab.research.google.com/assets/colab-badge.svg\" alt=\"Open In Colab\"/></a>"
      ]
    },
    {
      "cell_type": "markdown",
      "source": [
        "**Week 1**"
      ],
      "metadata": {
        "id": "fPFYzPOMAxxY"
      }
    },
    {
      "cell_type": "code",
      "execution_count": null,
      "metadata": {
        "id": "TxZKBhFXAwmL"
      },
      "outputs": [],
      "source": []
    },
    {
      "cell_type": "markdown",
      "source": [
        "**Week 2**"
      ],
      "metadata": {
        "id": "djP2bOcZA3ag"
      }
    },
    {
      "cell_type": "code",
      "source": [],
      "metadata": {
        "id": "zc_b_IO9BPvh"
      },
      "execution_count": null,
      "outputs": []
    },
    {
      "cell_type": "markdown",
      "source": [
        "**Week 3**"
      ],
      "metadata": {
        "id": "aeBZ2YTmA8Xg"
      }
    },
    {
      "cell_type": "code",
      "source": [],
      "metadata": {
        "id": "CnKAeIDYBQaN"
      },
      "execution_count": null,
      "outputs": []
    },
    {
      "cell_type": "markdown",
      "source": [
        "**Week 4**"
      ],
      "metadata": {
        "id": "VljbvjLHA8gX"
      }
    },
    {
      "cell_type": "code",
      "source": [],
      "metadata": {
        "id": "o7f69TFfBREM"
      },
      "execution_count": null,
      "outputs": []
    },
    {
      "cell_type": "markdown",
      "source": [
        "**Week 5**"
      ],
      "metadata": {
        "id": "OlwaiU3OA8ky"
      }
    },
    {
      "cell_type": "code",
      "source": [],
      "metadata": {
        "id": "o8PhN6LOBRuV"
      },
      "execution_count": null,
      "outputs": []
    },
    {
      "cell_type": "markdown",
      "source": [
        "**Week 6**"
      ],
      "metadata": {
        "id": "GGun0cDnA8nw"
      }
    },
    {
      "cell_type": "code",
      "source": [],
      "metadata": {
        "id": "7D8djNMEBTDz"
      },
      "execution_count": null,
      "outputs": []
    },
    {
      "cell_type": "markdown",
      "source": [
        "**Week 7**"
      ],
      "metadata": {
        "id": "SO2GM4PsA8rp"
      }
    },
    {
      "cell_type": "code",
      "source": [],
      "metadata": {
        "id": "yC8puiadBTtt"
      },
      "execution_count": null,
      "outputs": []
    },
    {
      "cell_type": "markdown",
      "source": [
        "**Week 8**"
      ],
      "metadata": {
        "id": "s_rZTd0TBNFT"
      }
    },
    {
      "cell_type": "code",
      "source": [],
      "metadata": {
        "id": "qjXMPpJFBWCq"
      },
      "execution_count": null,
      "outputs": []
    }
  ]
}